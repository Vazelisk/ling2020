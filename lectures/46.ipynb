{
 "cells": [
  {
   "cell_type": "markdown",
   "metadata": {
    "id": "aDmYvHoMRGPD"
   },
   "source": [
    "# Визуализация решающих деревьев"
   ]
  },
  {
   "cell_type": "code",
   "execution_count": null,
   "metadata": {
    "id": "vgQWzC5fUDXS"
   },
   "outputs": [],
   "source": [
    "import pandas as pd\n",
    "from sklearn.tree import DecisionTreeClassifier "
   ]
  },
  {
   "cell_type": "markdown",
   "metadata": {
    "id": "yrLFvnBJSyQv"
   },
   "source": [
    "## Данные"
   ]
  },
  {
   "cell_type": "markdown",
   "metadata": {
    "id": "lLky_3j5j5IE"
   },
   "source": [
    "Датасет [Affairs](https://www.kaggle.com/clarkchong/fairs-affairs-dataset) про измены в браке"
   ]
  },
  {
   "cell_type": "markdown",
   "metadata": {
    "id": "xmcdv7-njR6J"
   },
   "source": [
    "```\n",
    "Number of observations: 6366\n",
    "Number of variables: 9\n",
    "Variable name definitions:\n",
    "\n",
    "\n",
    "affairs\n",
    "numeric. How often engaged in extramarital sexual intercourse during the past year? 0 = none, 1 = once, 2 = twice, 3 = 3 times, 7 = 4–10 times, 12 = monthly, 12 = weekly, 12 = daily.\n",
    "\n",
    "gender\n",
    "factor indicating gender.\n",
    "\n",
    "age\n",
    "numeric variable coding age in years: 17.5 = under 20, 22 = 20–24, 27 = 25–29, 32 = 30–34, 37 = 35–39, 42 = 40–44, 47 = 45–49, 52 = 50–54, 57 = 55 or over.\n",
    "\n",
    "yearsmarried\n",
    "numeric variable coding number of years married: 0.125 = 3 months or less, 0.417 = 4–6 months, 0.75 = 6 months–1 year, 1.5 = 1–2 years, 4 = 3–5 years, 7 = 6–8 years, 10 = 9–11 years, 15 = 12 or more years.\n",
    "\n",
    "children\n",
    "factor. Are there children in the marriage?\n",
    "\n",
    "religiousness\n",
    "numeric variable coding religiousness: 1 = anti, 2 = not at all, 3 = slightly, 4 = somewhat, 5 = very.\n",
    "\n",
    "education\n",
    "numeric variable coding level of education: 9 = grade school, 12 = high school graduate, 14 = some college, 16 = college graduate, 17 = some graduate work, 18 = master's degree, 20 = Ph.D., M.D., or other advanced degree.\n",
    "\n",
    "occupation\n",
    "numeric variable coding occupation according to Hollingshead classification (reverse numbering).\n",
    "\n",
    "rating\n",
    "numeric variable coding self rating of marriage: 1 = very unhappy, 2 = somewhat unhappy, 3 = average, 4 = happier than average, 5 = very happy.\n",
    "\n",
    "\n",
    "\n",
    "```\n"
   ]
  },
  {
   "cell_type": "code",
   "execution_count": null,
   "metadata": {
    "id": "FOW_qcb3TopM"
   },
   "outputs": [],
   "source": [
    "affairs_data = pd.read_csv('https://raw.githubusercontent.com/esolovev/ling2020/main/lectures/Affairs.csv')"
   ]
  },
  {
   "cell_type": "markdown",
   "metadata": {
    "id": "S0sWJKz_Syql"
   },
   "source": [
    "## Подготовка данных"
   ]
  },
  {
   "cell_type": "code",
   "execution_count": null,
   "metadata": {
    "id": "lkgmTxEJTpBO"
   },
   "outputs": [],
   "source": [
    "affairs_data = affairs_data.drop(columns=['Unnamed: 0'])"
   ]
  },
  {
   "cell_type": "code",
   "execution_count": null,
   "metadata": {
    "colab": {
     "base_uri": "https://localhost:8080/"
    },
    "id": "VVUv8E8UsiN7",
    "outputId": "bee61450-36f5-4730-cf64-da9484025b8b"
   },
   "outputs": [],
   "source": [
    "affairs_data.shape"
   ]
  },
  {
   "cell_type": "code",
   "execution_count": null,
   "metadata": {
    "colab": {
     "base_uri": "https://localhost:8080/",
     "height": 202
    },
    "id": "aRZYyXPsnvYf",
    "outputId": "349b8060-3226-4539-c730-07c0d4ccbbae"
   },
   "outputs": [],
   "source": [
    "affairs_data.head()"
   ]
  },
  {
   "cell_type": "markdown",
   "metadata": {
    "id": "rlzNW436zSuu"
   },
   "source": [
    "Кодируем строковые переменные:"
   ]
  },
  {
   "cell_type": "code",
   "execution_count": null,
   "metadata": {
    "id": "LhECQ1HctqAP"
   },
   "outputs": [],
   "source": [
    "affairs_data.gender = [0 if value == 'male' else 1 for value in affairs_data.gender]"
   ]
  },
  {
   "cell_type": "code",
   "execution_count": null,
   "metadata": {
    "id": "8MSliguvuEKu"
   },
   "outputs": [],
   "source": [
    "affairs_data.children = [0 if value == 'no' else 1 for value in affairs_data.children]"
   ]
  },
  {
   "cell_type": "markdown",
   "metadata": {
    "id": "PgtNDbHbnt24"
   },
   "source": [
    "Давайте закодируем affairs в бинарную переменную и позанимаемся классификацией"
   ]
  },
  {
   "cell_type": "code",
   "execution_count": null,
   "metadata": {
    "colab": {
     "base_uri": "https://localhost:8080/",
     "height": 283
    },
    "id": "sClZTL7CwUsa",
    "outputId": "6c8f0eca-7936-4526-8bfc-c85e124ee515"
   },
   "outputs": [],
   "source": [
    "affairs_data.affairs.hist()"
   ]
  },
  {
   "cell_type": "code",
   "execution_count": null,
   "metadata": {
    "id": "CznTA-azrMIO"
   },
   "outputs": [],
   "source": [
    "X = affairs_data.drop(columns=['affairs'])"
   ]
  },
  {
   "cell_type": "code",
   "execution_count": null,
   "metadata": {
    "id": "7HC71ootrVWB"
   },
   "outputs": [],
   "source": [
    "y = [0 if value == 0 else 1 for value in affairs_data.affairs]"
   ]
  },
  {
   "cell_type": "markdown",
   "metadata": {
    "id": "AhNDXmSXnK4a"
   },
   "source": [
    "## Обучение"
   ]
  },
  {
   "cell_type": "code",
   "execution_count": null,
   "metadata": {
    "id": "dndcV9lbnNFf"
   },
   "outputs": [],
   "source": [
    "from sklearn.model_selection import train_test_split"
   ]
  },
  {
   "cell_type": "code",
   "execution_count": null,
   "metadata": {
    "id": "RSUzS1egbRsS"
   },
   "outputs": [],
   "source": [
    "SEED = 128"
   ]
  },
  {
   "cell_type": "code",
   "execution_count": null,
   "metadata": {
    "id": "zTKmuk55sbmM"
   },
   "outputs": [],
   "source": [
    "# количество объектов в классах несбалансированное, 0 сильно больше, чем 1\n",
    "# используем парметр startify, \n",
    "# чтобы в обучающей и тестовой выборке баланс классов был примерно одинаковым\n",
    "X_train, X_test, y_train, y_test = train_test_split(X, y, stratify=y, random_state=SEED)"
   ]
  },
  {
   "cell_type": "code",
   "execution_count": null,
   "metadata": {
    "id": "ALcVaihitLWi"
   },
   "outputs": [],
   "source": [
    "dtc = DecisionTreeClassifier(random_state=SEED, max_depth=3)"
   ]
  },
  {
   "cell_type": "code",
   "execution_count": null,
   "metadata": {
    "colab": {
     "base_uri": "https://localhost:8080/"
    },
    "id": "87Pjb3yFtLew",
    "outputId": "91c06712-f12a-4d2b-8628-1dcd723d013e"
   },
   "outputs": [],
   "source": [
    "dtc.fit(X_train, y_train)"
   ]
  },
  {
   "cell_type": "markdown",
   "metadata": {
    "id": "gjKGQKjSvkTZ"
   },
   "source": [
    "### Посмотрим на качество"
   ]
  },
  {
   "cell_type": "code",
   "execution_count": null,
   "metadata": {
    "id": "3XvV-aDqvoSJ"
   },
   "outputs": [],
   "source": [
    "from sklearn.metrics import classification_report"
   ]
  },
  {
   "cell_type": "code",
   "execution_count": null,
   "metadata": {
    "id": "thlCZzkpaOoY"
   },
   "outputs": [],
   "source": [
    "y_pred = dtc.predict(X_test)"
   ]
  },
  {
   "cell_type": "code",
   "execution_count": null,
   "metadata": {
    "colab": {
     "base_uri": "https://localhost:8080/"
    },
    "id": "9ilYNHgJad91",
    "outputId": "72b8d918-4e34-499e-a8a8-66ad020292e0"
   },
   "outputs": [],
   "source": [
    "print(classification_report(y_test, y_pred))"
   ]
  },
  {
   "cell_type": "markdown",
   "metadata": {
    "id": "LM2YEAuzSy4u"
   },
   "source": [
    "## Визуализация"
   ]
  },
  {
   "cell_type": "markdown",
   "metadata": {
    "id": "WnVdPnuWb47j"
   },
   "source": [
    "### Текстовое представление"
   ]
  },
  {
   "cell_type": "markdown",
   "metadata": {
    "id": "SZ9Rmqd3gD9c"
   },
   "source": [
    "https://scikit-learn.org/stable/modules/generated/sklearn.tree.export_text.html#sklearn.tree.export_text"
   ]
  },
  {
   "cell_type": "code",
   "execution_count": null,
   "metadata": {
    "id": "xJXUJDaTdXUc"
   },
   "outputs": [],
   "source": [
    "from sklearn.tree import export_text"
   ]
  },
  {
   "cell_type": "code",
   "execution_count": null,
   "metadata": {
    "colab": {
     "base_uri": "https://localhost:8080/"
    },
    "id": "iAUpnR84cuKH",
    "outputId": "b4a2d4ca-62b1-47d5-a350-08044f3970ef"
   },
   "outputs": [],
   "source": [
    "X_train.columns"
   ]
  },
  {
   "cell_type": "code",
   "execution_count": null,
   "metadata": {
    "colab": {
     "base_uri": "https://localhost:8080/"
    },
    "id": "1diHcF0OTpd3",
    "outputId": "c99c5a22-bc7f-404e-a825-3568cd579f56"
   },
   "outputs": [],
   "source": [
    "text_representation = export_text(dtc, feature_names=list(X_train.columns))\n",
    "print(text_representation)"
   ]
  },
  {
   "cell_type": "markdown",
   "metadata": {
    "id": "OLPDZWWPdLFW"
   },
   "source": [
    "### plot_tree из sklearn"
   ]
  },
  {
   "cell_type": "markdown",
   "metadata": {
    "id": "9KUUts35gATG"
   },
   "source": [
    "https://scikit-learn.org/stable/modules/generated/sklearn.tree.plot_tree.html#sklearn.tree.plot_tree"
   ]
  },
  {
   "cell_type": "code",
   "execution_count": null,
   "metadata": {
    "id": "lORi6y-3Stwd"
   },
   "outputs": [],
   "source": [
    "from sklearn.tree import plot_tree\n",
    "import matplotlib.pyplot as plt"
   ]
  },
  {
   "cell_type": "code",
   "execution_count": null,
   "metadata": {
    "colab": {
     "base_uri": "https://localhost:8080/",
     "height": 887
    },
    "id": "b_bU1cOQSuLv",
    "outputId": "326d0159-ae7b-411d-ef6d-51f72d23e597"
   },
   "outputs": [],
   "source": [
    "fig = plt.figure(figsize=(25,20))\n",
    "tree_plt = plot_tree(\n",
    "    dtc, \n",
    "    feature_names=list(X_train.columns),\n",
    "    class_names=['loyal', 'cheating'], # названия классов, 0 - loyal, 1 - cheating \n",
    "    filled=True # покрасить в соответвии с количеством объектов правильного класса\n",
    "    )\n",
    "# левая стрелка - да, правая стрелка - нет"
   ]
  },
  {
   "cell_type": "code",
   "execution_count": null,
   "metadata": {
    "id": "A-CQ0a_qSuSJ"
   },
   "outputs": [],
   "source": [
    "# если хотим сохранить картинку\n",
    "# fig.savefig(\"decistion_tree.png\")"
   ]
  },
  {
   "cell_type": "markdown",
   "metadata": {
    "id": "c8Qnn_bmj2Gt"
   },
   "source": [
    "### graphiz"
   ]
  },
  {
   "cell_type": "code",
   "execution_count": null,
   "metadata": {
    "id": "Tbo3picjkCJT"
   },
   "outputs": [],
   "source": [
    "! pip install graphviz"
   ]
  },
  {
   "cell_type": "code",
   "execution_count": null,
   "metadata": {
    "id": "59uNs2iPkyYy"
   },
   "outputs": [],
   "source": [
    "import graphviz\n",
    "from sklearn.tree import export_graphviz"
   ]
  },
  {
   "cell_type": "code",
   "execution_count": null,
   "metadata": {
    "id": "iCcTFA43lmvy"
   },
   "outputs": [],
   "source": [
    "# dot \n",
    "dot_data = export_graphviz(\n",
    "    dtc, \n",
    "    feature_names=list(X_train.columns),\n",
    "    class_names=['loyal', 'cheating'], # названия классов, 0 - loyal, 1 - cheating  \n",
    "    filled=True # покрасить в соответвии с количеством объектов правильного класса\n",
    "    )"
   ]
  },
  {
   "cell_type": "code",
   "execution_count": null,
   "metadata": {
    "colab": {
     "base_uri": "https://localhost:8080/",
     "height": 599
    },
    "id": "909hhECBm6Ql",
    "outputId": "f97492c4-59bf-43a0-d0ba-55b40dbe953e"
   },
   "outputs": [],
   "source": [
    "# рисуем дерево\n",
    "graph = graphviz.Source(dot_data, format=\"png\") \n",
    "graph"
   ]
  },
  {
   "cell_type": "markdown",
   "metadata": {
    "id": "Ts-Fsu9yj2Qt"
   },
   "source": [
    "### dtreeviz"
   ]
  },
  {
   "cell_type": "markdown",
   "metadata": {
    "id": "KzVF29JNsZo3"
   },
   "source": [
    "Помимо дерева нарисует симпатичные диаграммы и вообще классно выглядит"
   ]
  },
  {
   "cell_type": "code",
   "execution_count": null,
   "metadata": {
    "id": "y__RedT0kCoY"
   },
   "outputs": [],
   "source": [
    "! pip install dtreeviz"
   ]
  },
  {
   "cell_type": "code",
   "execution_count": null,
   "metadata": {
    "id": "6A-qe1xPnkdG"
   },
   "outputs": [],
   "source": [
    "from dtreeviz.trees import dtreeviz"
   ]
  },
  {
   "cell_type": "code",
   "execution_count": null,
   "metadata": {
    "colab": {
     "base_uri": "https://localhost:8080/",
     "height": 722
    },
    "id": "CorQdCNInpal",
    "outputId": "886c6bc6-e5a6-4ea9-ff53-5b4039f02b1b"
   },
   "outputs": [],
   "source": [
    "viz = dtreeviz(dtc, \n",
    "               X_train, \n",
    "               pd.Series(y_train),\n",
    "                target_name=\"target\",\n",
    "                feature_names=X_train.columns,\n",
    "                title=\"Affairs dataset classification\",\n",
    "                class_names=['loyal', 'cheating'], \n",
    "               scale=1.5 # регулируем размер картинки\n",
    "               )\n",
    "viz"
   ]
  },
  {
   "cell_type": "markdown",
   "metadata": {
    "id": "OKkdoCvctq7F"
   },
   "source": [
    "**Вопросы**:\n",
    "+ какие признаки оказались важными, а какие бесполезными для модели?\n",
    "+ 3 самых важных признака\n",
    "+ что можно сказать про измены и возраст?\n",
    "+ что можо сказать про измены и длительность брака?\n",
    "+ какой узел в дереве бесполезный? почему он появился?"
   ]
  }
 ],
 "metadata": {
  "colab": {
   "collapsed_sections": [],
   "name": "decision_trees.ipynb",
   "provenance": []
  },
  "kernelspec": {
   "display_name": "Python 3",
   "language": "python",
   "name": "python3"
  },
  "language_info": {
   "codemirror_mode": {
    "name": "ipython",
    "version": 3
   },
   "file_extension": ".py",
   "mimetype": "text/x-python",
   "name": "python",
   "nbconvert_exporter": "python",
   "pygments_lexer": "ipython3",
   "version": "3.7.4"
  }
 },
 "nbformat": 4,
 "nbformat_minor": 1
}
